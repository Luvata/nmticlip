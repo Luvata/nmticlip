{
 "cells": [
  {
   "cell_type": "code",
   "execution_count": 1,
   "id": "8961c6a3",
   "metadata": {},
   "outputs": [],
   "source": [
    "import torch\n",
    "from sklearn.metrics.pairwise import cosine_similarity\n",
    "import matplotlib.pyplot as plt\n",
    "%matplotlib inline\n",
    "import numpy as np\n",
    "\n",
    "from transformers import AutoTokenizer"
   ]
  },
  {
   "cell_type": "code",
   "execution_count": 2,
   "id": "8797174b",
   "metadata": {},
   "outputs": [
    {
     "name": "stderr",
     "output_type": "stream",
     "text": [
      "Special tokens have been added in the vocabulary, make sure the associated word embeddings are fine-tuned or trained.\n"
     ]
    }
   ],
   "source": [
    "tokenizer = AutoTokenizer.from_pretrained(\"imthanhlv/gpt2news\")"
   ]
  },
  {
   "cell_type": "code",
   "execution_count": 2,
   "id": "c6f1d9b1",
   "metadata": {},
   "outputs": [
    {
     "name": "stdout",
     "output_type": "stream",
     "text": [
      "Downloading...\n",
      "From: https://drive.google.com/uc?id=1u3GZerBV2eDq_aWxpTyDOIAgC-jfcVpG\n",
      "To: /home/lethanh/workspace/vlsp_viecap4h_gptteam_code/data/viecap_clean.zip\n",
      "100%|██████████████████████████████████████| 12.8M/12.8M [00:00<00:00, 21.5MB/s]\n"
     ]
    }
   ],
   "source": [
    "# !gdown https://drive.google.com/uc?id=1u3GZerBV2eDq_aWxpTyDOIAgC-jfcVpG\n",
    "# !unzip viecap_clean.zip"
   ]
  },
  {
   "cell_type": "code",
   "execution_count": 3,
   "id": "350dd47e",
   "metadata": {},
   "outputs": [
    {
     "name": "stdout",
     "output_type": "stream",
     "text": [
      "dict_keys(['clip_embedding', 'target', 'ids', 'label'])\n"
     ]
    }
   ],
   "source": [
    "viecap_ds = torch.load(\"./viecap_clean/viecap_dedup_full.pt\")\n",
    "print(viecap_ds.keys())"
   ]
  },
  {
   "cell_type": "code",
   "execution_count": 4,
   "id": "a451823a",
   "metadata": {},
   "outputs": [],
   "source": [
    "ic_embedding = viecap_ds['clip_embedding']\n",
    "ic_text = viecap_ds['label']"
   ]
  },
  {
   "cell_type": "code",
   "execution_count": 5,
   "id": "d7e6961b",
   "metadata": {},
   "outputs": [
    {
     "name": "stderr",
     "output_type": "stream",
     "text": [
      "tcmalloc: large alloc 6178832384 bytes == 0x55e345cec000 @  0x7f7a3c64d680 0x7f7a3c66e824 0x7f7a3c66eb8a 0x7f79ddef125e 0x7f79ddef29d2 0x7f7a1ff0d8ed 0x7f7a30b277be 0x7f7a3076d8be 0x55e33ac39f76 0x55e33abf785f 0x55e33ac45fa1 0x55e33abba77f 0x55e33ac44f9f 0x55e33ac45943 0x55e33abb8b84 0x55e33ac44f9f 0x55e33ac45943 0x55e33ab382d6 0x55e33abf7e1e 0x7f7a3a2a12dd 0x7f7a3a29e188 0x55e33ac29e6a 0x55e33abba75e 0x55e33ac44f9f 0x55e33ac45943 0x55e33abf7041 0x55e33ac7c99b 0x55e33ac44a92 0x55e33ac45943 0x55e33abba77f 0x55e33ac44a92\n",
      "tcmalloc: large alloc 3089416192 bytes == 0x55e4b8e9a000 @  0x7f7a3c64d680 0x7f7a3c66e824 0x7f7a3c66eb8a 0x7f79ddef125e 0x7f79ddef29d2 0x7f7a1ff0d8ed 0x7f7a30b277be 0x7f7a3076d8be 0x55e33ac39f76 0x55e33abf785f 0x55e33ac45fa1 0x55e33abba77f 0x55e33ac44f9f 0x55e33ac45943 0x55e33abb8b84 0x55e33ac44f9f 0x55e33ac45943 0x55e33ab382d6 0x55e33abf7e1e 0x7f7a3a2a12dd 0x7f7a3a29e188 0x55e33ac29e6a 0x55e33abba75e 0x55e33ac44f9f 0x55e33ac45943 0x55e33abf7041 0x55e33ac7c99b 0x55e33ac44a92 0x55e33ac45943 0x55e33abba77f 0x55e33ac44a92\n"
     ]
    }
   ],
   "source": [
    "sat_train_small = torch.load(\"./text_sat_b16_train.pt\")"
   ]
  },
  {
   "cell_type": "markdown",
   "id": "2d46d337",
   "metadata": {},
   "source": [
    "## Filter first by similarity with ic"
   ]
  },
  {
   "cell_type": "code",
   "execution_count": 6,
   "id": "d6739a57",
   "metadata": {},
   "outputs": [
    {
     "data": {
      "text/plain": [
       "dict_keys(['clip_embedding', 'target'])"
      ]
     },
     "execution_count": 6,
     "metadata": {},
     "output_type": "execute_result"
    }
   ],
   "source": [
    "sat_train_small.keys()"
   ]
  },
  {
   "cell_type": "code",
   "execution_count": 7,
   "id": "544ecbb7",
   "metadata": {},
   "outputs": [],
   "source": [
    "sate = sat_train_small['clip_embedding'].numpy()"
   ]
  },
  {
   "cell_type": "code",
   "execution_count": 8,
   "id": "73194164",
   "metadata": {},
   "outputs": [
    {
     "name": "stderr",
     "output_type": "stream",
     "text": [
      "tcmalloc: large alloc 12357656576 bytes == 0x55e5710e6000 @  0x7f7a3c64d680 0x7f7a3c66e824 0x7f79dd5e14ce 0x7f79dd632c70 0x7f79dd632dd7 0x7f79dd633029 0x7f79dd635f4d 0x7f79dd636289 0x7f79dd6d7c71 0x55e33ac39f76 0x55e33abf785f 0x55e33ac7bb90 0x55e33ac44a92 0x55e33ac45943 0x55e33abba11a 0x55e33ac44f9f 0x55e33ac45943 0x55e33abba11a 0x55e33ac44f9f 0x55e33ac45943 0x55e33abb8b84 0x55e33ac44a92 0x55e33ac45943 0x55e33abb8b84 0x55e33ac44a92 0x55e33ac45754 0x55e33acd3edc 0x55e33ad09083 0x55e33abfa699 0x55e33abb8b84 0x55e33ac3edc9\n",
      "tcmalloc: large alloc 12357656576 bytes == 0x55e853cc8000 @  0x7f7a3c64d680 0x7f7a3c66e824 0x7f79dd5e14ce 0x7f79dd632c70 0x7f79dd632dd7 0x7f79dd62c405 0x7f79dd6d7ee0 0x55e33ac39f76 0x55e33abf785f 0x55e33ac7bb90 0x55e33ac44f9f 0x55e33ac45943 0x55e33abba11a 0x55e33ac44f9f 0x55e33ac45943 0x55e33abba11a 0x55e33ac44a92 0x55e33ac45943 0x55e33abb8b84 0x55e33ac44a92 0x55e33ac45754 0x55e33acd3edc 0x55e33ad09083 0x55e33abfa699 0x55e33abb8b84 0x55e33ac3edc9 0x55e33ac7f363 0x55e33ac3edc9 0x55e33ac7f363 0x55e33ac3edc9 0x55e33ac2a1cd\n",
      "tcmalloc: large alloc 164994031616 bytes == 0x55eb355f6000 @  0x7f7a3c64d680 0x7f7a3c66e824 0x7f79dd5e14ce 0x7f79dd632c70 0x7f79dd632d58 0x7f79dd6ef8b9 0x7f79dd6f26dd 0x7f79dd81c07d 0x7f79dd81cc31 0x55e33abf785f 0x55e33abf7baa 0x55e33abf7e1e 0x55e33ac9ff3b 0x55e33aca73c6 0x55e33ac7d944 0x55e33ac44f9f 0x55e33ac45943 0x55e33abba11a 0x55e33ac44a92 0x55e33ac45943 0x55e33abb8b84 0x55e33ac44a92 0x55e33ac45754 0x55e33acd3edc 0x55e33ad09083 0x55e33abfa699 0x55e33abb8b84 0x55e33ac3edc9 0x55e33ac7f363 0x55e33ac3edc9 0x55e33ac7f363\n"
     ]
    }
   ],
   "source": [
    "sim = cosine_similarity(ic_embedding, sate)"
   ]
  },
  {
   "cell_type": "code",
   "execution_count": 11,
   "id": "ef1702a5",
   "metadata": {},
   "outputs": [
    {
     "data": {
      "image/png": "[encoded data removed]",
      "text/plain": [
       "<Figure size 432x288 with 1 Axes>"
      ]
     },
     "metadata": {
      "needs_background": "light"
     },
     "output_type": "display_data"
    }
   ],
   "source": [
    "plt.hist(max_sim, bins=100, ec='k')\n",
    "plt.title(\"\")\n",
    "plt.show()"
   ]
  },
  {
   "cell_type": "code",
   "execution_count": 10,
   "id": "a4fecd79",
   "metadata": {},
   "outputs": [],
   "source": [
    "max_sim = sim.max(axis=0)"
   ]
  },
  {
   "cell_type": "code",
   "execution_count": 12,
   "id": "a02c4724",
   "metadata": {},
   "outputs": [
    {
     "data": {
      "text/plain": [
       "0.32764840700133335"
      ]
     },
     "execution_count": 12,
     "metadata": {},
     "output_type": "execute_result"
    }
   ],
   "source": [
    "np.quantile(max_sim, 0.995)"
   ]
  },
  {
   "cell_type": "code",
   "execution_count": 13,
   "id": "535135f5",
   "metadata": {},
   "outputs": [
    {
     "name": "stderr",
     "output_type": "stream",
     "text": [
      "tcmalloc: large alloc 20624261120 bytes == 0x5611aab8e000 @  0x7f7a3c64d680 0x7f7a3c66e824 0x7f79dd5e14ce 0x7f79dd632c70 0x7f79dd632d58 0x7f79dd819a3f 0x7f79dd81b505 0x7f79dd81cc31 0x55e33abf785f 0x55e33abf7baa 0x55e33abf7e1e 0x7f79dd5e66bf 0x55e33abf9557 0x55e33ac7b060 0x55e33ac44a92 0x55e33ac45754 0x55e33acd3edc 0x55e33ad09083 0x55e33abfa699 0x55e33abb8b84 0x55e33ac3edc9 0x55e33ac7f363 0x55e33ac3edc9 0x55e33ac7f363 0x55e33ac3edc9 0x55e33ac2a1cd 0x55e33abba75e 0x55e33ac4586b 0x55e33abb8b84 0x55e33ac4586b 0x55e33abba75e\n"
     ]
    },
    {
     "name": "stdout",
     "output_type": "stream",
     "text": [
      "16061\n"
     ]
    },
    {
     "name": "stderr",
     "output_type": "stream",
     "text": [
      "/tmp/ipykernel_22239/356579023.py:5: FutureWarning: Using a non-tuple sequence for multidimensional indexing is deprecated; use `arr[tuple(seq)]` instead of `arr[seq]`. In the future this will be interpreted as an array index, `arr[np.array(seq)]`, which will result either in an error or a different result.\n",
      "  similar_sentences = sat_train_small['target'].numpy()[[c]]\n"
     ]
    }
   ],
   "source": [
    "r, c = np.where(sim > 0.327)\n",
    "c = np.unique(c)\n",
    "print(len(c))\n",
    "\n",
    "similar_sentences = sat_train_small['target'].numpy()[[c]]"
   ]
  },
  {
   "cell_type": "code",
   "execution_count": 14,
   "id": "06166200",
   "metadata": {},
   "outputs": [],
   "source": [
    "lengths = np.array([(i != 1).sum() for i in similar_sentences])"
   ]
  },
  {
   "cell_type": "code",
   "execution_count": 15,
   "id": "78a5c4db",
   "metadata": {},
   "outputs": [
    {
     "data": {
      "text/plain": [
       "12539"
      ]
     },
     "execution_count": 15,
     "metadata": {},
     "output_type": "execute_result"
    }
   ],
   "source": [
    "((lengths >= 5) & (lengths <= 63)).sum()"
   ]
  },
  {
   "cell_type": "code",
   "execution_count": 218,
   "id": "fe3e746f",
   "metadata": {},
   "outputs": [
    {
     "data": {
      "text/plain": [
       "'Sởi là một loại virus Có vỏ là các proteins, RNA, kèm theo một số proteins phục vụ sinh sản Virus sởi không thể tự sinh sản nó cần một tế bào chủ để làm giúp việc này'"
      ]
     },
     "execution_count": 218,
     "metadata": {},
     "output_type": "execute_result"
    }
   ],
   "source": [
    "tokenizer.decode(similar_sentences[28], skip_special_tokens=True)"
   ]
  },
  {
   "cell_type": "code",
   "execution_count": 18,
   "id": "6008addb",
   "metadata": {},
   "outputs": [],
   "source": [
    "# max length 64 tokens\n",
    "# min length 5 tokens"
   ]
  },
  {
   "cell_type": "code",
   "execution_count": 16,
   "id": "395330e7",
   "metadata": {},
   "outputs": [],
   "source": [
    "selected = c[((lengths >= 5) & (lengths <= 63))]"
   ]
  },
  {
   "cell_type": "code",
   "execution_count": 17,
   "id": "8bab7957",
   "metadata": {
    "scrolled": true
   },
   "outputs": [
    {
     "data": {
      "text/plain": [
       "12539"
      ]
     },
     "execution_count": 17,
     "metadata": {},
     "output_type": "execute_result"
    }
   ],
   "source": [
    "len(selected)"
   ]
  },
  {
   "cell_type": "code",
   "execution_count": 19,
   "id": "326161ec",
   "metadata": {},
   "outputs": [
    {
     "name": "stderr",
     "output_type": "stream",
     "text": [
      "/tmp/ipykernel_22239/2204455310.py:1: UserWarning: To copy construct from a tensor, it is recommended to use sourceTensor.clone().detach() or sourceTensor.clone().detach().requires_grad_(True), rather than torch.tensor(sourceTensor).\n",
      "  torch.tensor(sat_train_small['target'][[selected]][:, :64]).shape\n"
     ]
    },
    {
     "data": {
      "text/plain": [
       "torch.Size([12539, 64])"
      ]
     },
     "execution_count": 19,
     "metadata": {},
     "output_type": "execute_result"
    }
   ],
   "source": [
    "torch.tensor(sat_train_small['target'][[selected]][:, :64]).shape"
   ]
  },
  {
   "cell_type": "code",
   "execution_count": 20,
   "id": "f68b6a2f",
   "metadata": {},
   "outputs": [
    {
     "name": "stderr",
     "output_type": "stream",
     "text": [
      "/tmp/ipykernel_22239/3839296753.py:2: UserWarning: To copy construct from a tensor, it is recommended to use sourceTensor.clone().detach() or sourceTensor.clone().detach().requires_grad_(True), rather than torch.tensor(sourceTensor).\n",
      "  \"clip_embedding\": torch.tensor(sat_train_small['clip_embedding'][[selected]]),\n",
      "/tmp/ipykernel_22239/3839296753.py:3: UserWarning: To copy construct from a tensor, it is recommended to use sourceTensor.clone().detach() or sourceTensor.clone().detach().requires_grad_(True), rather than torch.tensor(sourceTensor).\n",
      "  \"target\": torch.tensor(sat_train_small['target'][[selected]][:, :64])\n"
     ]
    }
   ],
   "source": [
    "torch.save({\n",
    "    \"clip_embedding\": torch.tensor(sat_train_small['clip_embedding'][[selected]]),\n",
    "    \"target\": torch.tensor(sat_train_small['target'][[selected]][:, :64])\n",
    "}, \"viecap_clean/sat_similar_full_0327.pt\")"
   ]
  },
  {
   "cell_type": "code",
   "execution_count": 22,
   "id": "1065f3e0",
   "metadata": {},
   "outputs": [
    {
     "name": "stdout",
     "output_type": "stream",
     "text": [
      "torch.Size([5000, 512])\n",
      "torch.Size([5000, 64])\n"
     ]
    },
    {
     "name": "stderr",
     "output_type": "stream",
     "text": [
      "/tmp/ipykernel_22239/2837484012.py:2: UserWarning: To copy construct from a tensor, it is recommended to use sourceTensor.clone().detach() or sourceTensor.clone().detach().requires_grad_(True), rather than torch.tensor(sourceTensor).\n",
      "  \"clip_embedding\": torch.tensor(sat_train_small['clip_embedding'][[selected]][:5000] ),\n",
      "/tmp/ipykernel_22239/2837484012.py:3: UserWarning: To copy construct from a tensor, it is recommended to use sourceTensor.clone().detach() or sourceTensor.clone().detach().requires_grad_(True), rather than torch.tensor(sourceTensor).\n",
      "  \"target\": torch.tensor(sat_train_small['target'][[selected]][:5000][:, :64])\n"
     ]
    }
   ],
   "source": [
    "torch.save({\n",
    "    \"clip_embedding\": torch.tensor(sat_train_small['clip_embedding'][[selected]][:5000] ),\n",
    "    \"target\": torch.tensor(sat_train_small['target'][[selected]][:5000][:, :64])\n",
    "}, \"viecap_clean/train_sat_5k.pt\")\n",
    "\n",
    "t = torch.load(\"viecap_clean/train_sat_5k.pt\")\n",
    "\n",
    "print(t['clip_embedding'].shape)\n",
    "print(t['target'].shape)\n"
   ]
  },
  {
   "cell_type": "code",
   "execution_count": 23,
   "id": "981e7857",
   "metadata": {},
   "outputs": [
    {
     "name": "stdout",
     "output_type": "stream",
     "text": [
      "torch.Size([1000, 512])\n",
      "torch.Size([1000, 64])\n"
     ]
    },
    {
     "name": "stderr",
     "output_type": "stream",
     "text": [
      "/tmp/ipykernel_22239/3597643557.py:2: UserWarning: To copy construct from a tensor, it is recommended to use sourceTensor.clone().detach() or sourceTensor.clone().detach().requires_grad_(True), rather than torch.tensor(sourceTensor).\n",
      "  \"clip_embedding\": torch.tensor(sat_train_small['clip_embedding'][[selected]][5000:6000] ),\n",
      "/tmp/ipykernel_22239/3597643557.py:3: UserWarning: To copy construct from a tensor, it is recommended to use sourceTensor.clone().detach() or sourceTensor.clone().detach().requires_grad_(True), rather than torch.tensor(sourceTensor).\n",
      "  \"target\": torch.tensor(sat_train_small['target'][[selected]][5000:6000][:, :64])\n"
     ]
    }
   ],
   "source": [
    "torch.save({\n",
    "    \"clip_embedding\": torch.tensor(sat_train_small['clip_embedding'][[selected]][5000:6000] ),\n",
    "    \"target\": torch.tensor(sat_train_small['target'][[selected]][5000:6000][:, :64])\n",
    "}, \"viecap_clean/test_sat_1k.pt\")\n",
    "\n",
    "t = torch.load(\"viecap_clean/test_sat_1k.pt\")\n",
    "\n",
    "print(t['clip_embedding'].shape)\n",
    "print(t['target'].shape)"
   ]
  },
  {
   "cell_type": "code",
   "execution_count": 32,
   "id": "8b3888b0",
   "metadata": {},
   "outputs": [],
   "source": [
    "t = torch.load(\"./viecap_clean/test_viecap_1k.pt\")"
   ]
  },
  {
   "cell_type": "code",
   "execution_count": 33,
   "id": "a082a8ba",
   "metadata": {},
   "outputs": [
    {
     "data": {
      "text/plain": [
       "dict_keys(['clip_embedding', 'ids', 'target_sentence', 'target'])"
      ]
     },
     "execution_count": 33,
     "metadata": {},
     "output_type": "execute_result"
    }
   ],
   "source": [
    "t.keys()"
   ]
  },
  {
   "cell_type": "code",
   "execution_count": 34,
   "id": "88749e8a",
   "metadata": {},
   "outputs": [
    {
     "data": {
      "text/plain": [
       "(1000, 64)"
      ]
     },
     "execution_count": 34,
     "metadata": {},
     "output_type": "execute_result"
    }
   ],
   "source": [
    "t['target'].shape"
   ]
  },
  {
   "cell_type": "code",
   "execution_count": 35,
   "id": "5fde7fab",
   "metadata": {},
   "outputs": [
    {
     "data": {
      "text/plain": [
       "(1000, 512)"
      ]
     },
     "execution_count": 35,
     "metadata": {},
     "output_type": "execute_result"
    }
   ],
   "source": [
    "t['clip_embedding'].shape"
   ]
  },
  {
   "cell_type": "code",
   "execution_count": null,
   "id": "e93a86aa",
   "metadata": {},
   "outputs": [],
   "source": [
    "torch.save({\n",
    "    \"clip_embedding\": torch.tensor(t['clip_embedding']),\n",
    "    \"ids\": t['ids'],\n",
    "    \"target_sentence\": t['target_sentence'],\n",
    "    \"target\": torch.tensor(t['target']),\n",
    "}, \"./viecap_clean/test_sat_1k.pt\")"
   ]
  },
  {
   "cell_type": "markdown",
   "id": "08b9331e",
   "metadata": {},
   "source": [
    "## Fix viecap dataset"
   ]
  },
  {
   "cell_type": "code",
   "execution_count": 3,
   "id": "c6445ed5",
   "metadata": {},
   "outputs": [
    {
     "name": "stdout",
     "output_type": "stream",
     "text": [
      "bk_test_viecap_1k.pt\t  test_viecap_1k.pt   viecap_dedup_full.pt\r\n",
      "sat_similar_full_0327.pt  train_sat_5k.pt\r\n",
      "test_sat_1k.pt\t\t  train_viecap_5k.pt\r\n"
     ]
    }
   ],
   "source": [
    "!ls viecap_clean/"
   ]
  },
  {
   "cell_type": "code",
   "execution_count": 4,
   "id": "c3ac758e",
   "metadata": {},
   "outputs": [],
   "source": [
    "t = torch.load(\"./viecap_clean/train_viecap_5k.pt\")"
   ]
  },
  {
   "cell_type": "code",
   "execution_count": 7,
   "id": "1c156c95",
   "metadata": {},
   "outputs": [],
   "source": [
    "te = t['clip_embedding'].numpy()"
   ]
  },
  {
   "cell_type": "code",
   "execution_count": 11,
   "id": "a232cd76",
   "metadata": {},
   "outputs": [
    {
     "data": {
      "text/plain": [
       "(4108, 512)"
      ]
     },
     "execution_count": 11,
     "metadata": {},
     "output_type": "execute_result"
    }
   ],
   "source": [
    "np.unique(te, axis=0, ).shape"
   ]
  },
  {
   "cell_type": "code",
   "execution_count": null,
   "id": "3c4cc34c",
   "metadata": {},
   "outputs": [],
   "source": []
  }
 ],
 "metadata": {
  "kernelspec": {
   "display_name": "Python 3 (ipykernel)",
   "language": "python",
   "name": "python3"
  },
  "language_info": {
   "codemirror_mode": {
    "name": "ipython",
    "version": 3
   },
   "file_extension": ".py",
   "mimetype": "text/x-python",
   "name": "python",
   "nbconvert_exporter": "python",
   "pygments_lexer": "ipython3",
   "version": "3.8.5"
  }
 },
 "nbformat": 4,
 "nbformat_minor": 5
}
