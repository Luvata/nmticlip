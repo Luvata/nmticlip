{
 "cells": [
  {
   "cell_type": "code",
   "execution_count": 1,
   "id": "fcbfbc5f",
   "metadata": {},
   "outputs": [
    {
     "name": "stdout",
     "output_type": "stream",
     "text": [
      "environ({'SHELL': '/bin/bash', 'GLIBCXX_FORCE_NEW': '1', 'CONDA_EXE': '/home/lethanh/miniconda3/bin/conda', '_CE_M': '', 'TMUX': '/tmp/tmux-2001/default,5985,0', 'PWD': '/home/lethanh/workspace/vlsp_viecap4h_gptteam_code/data', 'LOGNAME': 'lethanh', 'XDG_SESSION_TYPE': 'tty', 'CONDA_PREFIX': '/home/lethanh/miniconda3/envs/tpuenv', 'GLIBCPP_FORCE_NEW': '1', 'MOTD_SHOWN': 'pam', 'LD_PRELOAD': '/usr/lib/x86_64-linux-gnu/libtcmalloc.so.4', 'HOME': '/home/lethanh', 'LANG': 'C.UTF-8', 'LS_COLORS': 'rs=0:di=01;34:ln=01;36:mh=00:pi=40;33:so=01;35:do=01;35:bd=40;33;01:cd=40;33;01:or=40;31;01:mi=00:su=37;41:sg=30;43:ca=30;41:tw=30;42:ow=34;42:st=37;44:ex=01;32:*.tar=01;31:*.tgz=01;31:*.arc=01;31:*.arj=01;31:*.taz=01;31:*.lha=01;31:*.lz4=01;31:*.lzh=01;31:*.lzma=01;31:*.tlz=01;31:*.txz=01;31:*.tzo=01;31:*.t7z=01;31:*.zip=01;31:*.z=01;31:*.dz=01;31:*.gz=01;31:*.lrz=01;31:*.lz=01;31:*.lzo=01;31:*.xz=01;31:*.zst=01;31:*.tzst=01;31:*.bz2=01;31:*.bz=01;31:*.tbz=01;31:*.tbz2=01;31:*.tz=01;31:*.deb=01;31:*.rpm=01;31:*.jar=01;31:*.war=01;31:*.ear=01;31:*.sar=01;31:*.rar=01;31:*.alz=01;31:*.ace=01;31:*.zoo=01;31:*.cpio=01;31:*.7z=01;31:*.rz=01;31:*.cab=01;31:*.wim=01;31:*.swm=01;31:*.dwm=01;31:*.esd=01;31:*.jpg=01;35:*.jpeg=01;35:*.mjpg=01;35:*.mjpeg=01;35:*.gif=01;35:*.bmp=01;35:*.pbm=01;35:*.pgm=01;35:*.ppm=01;35:*.tga=01;35:*.xbm=01;35:*.xpm=01;35:*.tif=01;35:*.tiff=01;35:*.png=01;35:*.svg=01;35:*.svgz=01;35:*.mng=01;35:*.pcx=01;35:*.mov=01;35:*.mpg=01;35:*.mpeg=01;35:*.m2v=01;35:*.mkv=01;35:*.webm=01;35:*.ogm=01;35:*.mp4=01;35:*.m4v=01;35:*.mp4v=01;35:*.vob=01;35:*.qt=01;35:*.nuv=01;35:*.wmv=01;35:*.asf=01;35:*.rm=01;35:*.rmvb=01;35:*.flc=01;35:*.avi=01;35:*.fli=01;35:*.flv=01;35:*.gl=01;35:*.dl=01;35:*.xcf=01;35:*.xwd=01;35:*.yuv=01;35:*.cgm=01;35:*.emf=01;35:*.ogv=01;35:*.ogx=01;35:*.aac=00;36:*.au=00;36:*.flac=00;36:*.m4a=00;36:*.mid=00;36:*.midi=00;36:*.mka=00;36:*.mp3=00;36:*.mpc=00;36:*.ogg=00;36:*.ra=00;36:*.wav=00;36:*.oga=00;36:*.opus=00;36:*.spx=00;36:*.xspf=00;36:', 'CONDA_PROMPT_MODIFIER': '(tpuenv) ', 'SSH_CONNECTION': '116.96.47.230 60740 10.164.0.56 22', 'LESSCLOSE': '/usr/bin/lesspipe %s %s', 'XDG_SESSION_CLASS': 'user', 'PYTHONPATH': ':/usr/local/lib/python3.8/dist-packages', 'TERM': 'xterm-color', '_CE_CONDA': '', 'LESSOPEN': '| /usr/bin/lesspipe %s', 'USER': 'lethanh', 'TMUX_PANE': '%1', 'CONDA_SHLVL': '2', 'SHLVL': '2', 'XDG_SESSION_ID': '1', 'CONDA_PYTHON_EXE': '/home/lethanh/miniconda3/bin/python', 'LC_CTYPE': 'C.UTF-8', 'XDG_RUNTIME_DIR': '/run/user/2001', 'SSH_CLIENT': '116.96.47.230 60740 22', 'CONDA_DEFAULT_ENV': 'tpuenv', 'XDG_DATA_DIRS': '/usr/local/share:/usr/share:/var/lib/snapd/desktop', 'PATH': '/home/lethanh/miniconda3/envs/tpuenv/bin:/home/lethanh/miniconda3/condabin:/usr/local/sbin:/usr/local/bin:/usr/sbin:/usr/bin:/sbin:/bin:/usr/games:/usr/local/games:/snap/bin:/opt/google-cloud-sdk/bin', 'DBUS_SESSION_BUS_ADDRESS': 'unix:path=/run/user/2001/bus', 'SSH_TTY': '/dev/pts/0', 'CONDA_PREFIX_1': '/home/lethanh/miniconda3', 'OLDPWD': '/home/lethanh/workspace/vlsp_viecap4h_gptteam_code', '_': '/home/lethanh/miniconda3/envs/tpuenv/bin/jupyter', 'PYDEVD_USE_FRAME_EVAL': 'NO', 'JPY_PARENT_PID': '6067', 'CLICOLOR': '1', 'PAGER': 'cat', 'GIT_PAGER': 'cat', 'MPLBACKEND': 'module://matplotlib_inline.backend_inline', 'XRT_TPU_CONFIG': 'localservice;0;localhost:51011'})\n",
      "PYTORCH: 56b43f4fec1f76953f15a627694d4bba34588969\n",
      "XLA: ef3cad01fbde4b339f05dc5cabcb236ea42bd843\n"
     ]
    }
   ],
   "source": [
    "import os\n",
    "\n",
    "os.environ[\"XRT_TPU_CONFIG\"] = \"localservice;0;localhost:51011\"\n",
    "print(os.environ)\n",
    "\n",
    "import gc\n",
    "gc.enable()\n",
    "\n",
    "import torch\n",
    "import torch.nn as nn\n",
    "import torch.nn.functional as F\n",
    "from torch.utils.data import DataLoader, Dataset\n",
    "from torch.utils.data.distributed import DistributedSampler\n",
    "\n",
    "import torch_xla\n",
    "import torch_xla.core.xla_model as xm\n",
    "import torch_xla.debug.metrics as met\n",
    "import torch_xla.distributed.parallel_loader as pl\n",
    "import torch_xla.distributed.xla_multiprocessing as xmp\n",
    "import torch_xla.utils.serialization as xser\n",
    "import torch_xla.version as xv\n",
    "\n",
    "import warnings\n",
    "warnings.filterwarnings(\"ignore\")\n",
    "\n",
    "print('PYTORCH:', xv.__torch_gitrev__)\n",
    "print('XLA:', xv.__xla_gitrev__)"
   ]
  },
  {
   "cell_type": "code",
   "execution_count": 2,
   "id": "a7921207",
   "metadata": {},
   "outputs": [
    {
     "name": "stderr",
     "output_type": "stream",
     "text": [
      "tcmalloc: large alloc 1199423488 bytes == 0x5628f22aa000 @  0x7f4ef7701680 0x7f4ef7722824 0x7f4ef7722b8a 0x7f4e98fa525e 0x7f4e98fa69d2 0x7f4edafc18ed 0x7f4eebbcd8b9 0x7f4eeb8218be 0x5628cf9c6f76 0x5628cf98485f 0x5628cf9d2fa1 0x5628cf94777f 0x5628cf9d1f9f 0x5628cf9d2943 0x5628cf984041 0x5628cfa0999b 0x5628cf9d1a92 0x5628cf9d2943 0x5628cf94777f 0x5628cf9d1a92 0x5628cf9d2754 0x5628cfa60edc 0x5628cfa96083 0x5628cf987699 0x5628cf945b84 0x5628cf9cbdc9 0x5628cfa0c363 0x5628cf9cbdc9 0x5628cfa0c363 0x5628cf9cbdc9 0x5628cf9b71cd\n"
     ]
    }
   ],
   "source": [
    "dts = torch.load(\"./token.pt\")"
   ]
  },
  {
   "cell_type": "code",
   "execution_count": 3,
   "id": "36682a44",
   "metadata": {},
   "outputs": [
    {
     "data": {
      "text/plain": [
       "dict_keys(['en', 'vi'])"
      ]
     },
     "execution_count": 3,
     "metadata": {},
     "output_type": "execute_result"
    }
   ],
   "source": [
    "dts.keys()"
   ]
  },
  {
   "cell_type": "code",
   "execution_count": 7,
   "id": "1683837f",
   "metadata": {},
   "outputs": [
    {
     "data": {
      "text/plain": [
       "list"
      ]
     },
     "execution_count": 7,
     "metadata": {},
     "output_type": "execute_result"
    }
   ],
   "source": [
    "type(dts['vi'])"
   ]
  },
  {
   "cell_type": "code",
   "execution_count": 10,
   "id": "2aec66ab",
   "metadata": {},
   "outputs": [],
   "source": [
    "lens = []\n",
    "for i in dts['vi'][:100]:\n",
    "    lens.append(128 - sum([j == 1 for j in i]))"
   ]
  },
  {
   "cell_type": "code",
   "execution_count": null,
   "id": "27acd39c",
   "metadata": {},
   "outputs": [],
   "source": [
    "!pip  installl matplotli"
   ]
  },
  {
   "cell_type": "code",
   "execution_count": 17,
   "id": "f1e29bf8",
   "metadata": {},
   "outputs": [
    {
     "ename": "ModuleNotFoundError",
     "evalue": "No module named 'matplotlib'",
     "output_type": "error",
     "traceback": [
      "\u001b[0;31m---------------------------------------------------------------------------\u001b[0m",
      "\u001b[0;31mModuleNotFoundError\u001b[0m                       Traceback (most recent call last)",
      "\u001b[0;32m/tmp/ipykernel_6070/3459056358.py\u001b[0m in \u001b[0;36m<module>\u001b[0;34m\u001b[0m\n\u001b[1;32m      1\u001b[0m \u001b[0;32mimport\u001b[0m \u001b[0mnumpy\u001b[0m \u001b[0;32mas\u001b[0m \u001b[0mnp\u001b[0m\u001b[0;34m\u001b[0m\u001b[0;34m\u001b[0m\u001b[0m\n\u001b[1;32m      2\u001b[0m \u001b[0;32mimport\u001b[0m \u001b[0mpandas\u001b[0m \u001b[0;32mas\u001b[0m \u001b[0mpd\u001b[0m\u001b[0;34m\u001b[0m\u001b[0;34m\u001b[0m\u001b[0m\n\u001b[0;32m----> 3\u001b[0;31m \u001b[0;32mimport\u001b[0m \u001b[0mmatplotlib\u001b[0m\u001b[0;34m.\u001b[0m\u001b[0mpyplot\u001b[0m \u001b[0;32mas\u001b[0m \u001b[0mplt\u001b[0m\u001b[0;34m\u001b[0m\u001b[0;34m\u001b[0m\u001b[0m\n\u001b[0m\u001b[1;32m      4\u001b[0m \u001b[0mget_ipython\u001b[0m\u001b[0;34m(\u001b[0m\u001b[0;34m)\u001b[0m\u001b[0;34m.\u001b[0m\u001b[0mrun_line_magic\u001b[0m\u001b[0;34m(\u001b[0m\u001b[0;34m'matplotlib'\u001b[0m\u001b[0;34m,\u001b[0m \u001b[0;34m'inline'\u001b[0m\u001b[0;34m)\u001b[0m\u001b[0;34m\u001b[0m\u001b[0;34m\u001b[0m\u001b[0m\n",
      "\u001b[0;31mModuleNotFoundError\u001b[0m: No module named 'matplotlib'"
     ]
    }
   ],
   "source": [
    "import numpy as np\n",
    "import pandas as pd\n",
    "import matplotlib.pyplot as plt\n",
    "%matplotlib inline"
   ]
  },
  {
   "cell_type": "code",
   "execution_count": 16,
   "id": "c1867321",
   "metadata": {},
   "outputs": [
    {
     "data": {
      "text/plain": [
       "[10,\n",
       " 78,\n",
       " 30,\n",
       " 30,\n",
       " 18,\n",
       " 39,\n",
       " 16,\n",
       " 10,\n",
       " 24,\n",
       " 36,\n",
       " 20,\n",
       " 25,\n",
       " 64,\n",
       " 50,\n",
       " 37,\n",
       " 29,\n",
       " 34,\n",
       " 16,\n",
       " 20,\n",
       " 27,\n",
       " 12,\n",
       " 16,\n",
       " 26,\n",
       " 12,\n",
       " 20,\n",
       " 25,\n",
       " 14,\n",
       " 19,\n",
       " 13,\n",
       " 20,\n",
       " 61,\n",
       " 14,\n",
       " 5,\n",
       " 12,\n",
       " 24,\n",
       " 17,\n",
       " 30,\n",
       " 16,\n",
       " 15,\n",
       " 9,\n",
       " 21,\n",
       " 23,\n",
       " 27,\n",
       " 19,\n",
       " 18,\n",
       " 37,\n",
       " 25,\n",
       " 41,\n",
       " 19,\n",
       " 16,\n",
       " 31,\n",
       " 24,\n",
       " 5,\n",
       " 12,\n",
       " 62,\n",
       " 27,\n",
       " 8,\n",
       " 14,\n",
       " 23,\n",
       " 10,\n",
       " 20,\n",
       " 22,\n",
       " 10,\n",
       " 16,\n",
       " 7,\n",
       " 13,\n",
       " 16,\n",
       " 15,\n",
       " 17,\n",
       " 14,\n",
       " 42,\n",
       " 25,\n",
       " 36,\n",
       " 18,\n",
       " 40,\n",
       " 14,\n",
       " 19,\n",
       " 23,\n",
       " 13,\n",
       " 23,\n",
       " 19,\n",
       " 34,\n",
       " 55,\n",
       " 13,\n",
       " 27,\n",
       " 23,\n",
       " 26,\n",
       " 22,\n",
       " 15,\n",
       " 31,\n",
       " 15,\n",
       " 28,\n",
       " 26,\n",
       " 16,\n",
       " 12,\n",
       " 20,\n",
       " 26,\n",
       " 11,\n",
       " 26,\n",
       " 8]"
      ]
     },
     "execution_count": 16,
     "metadata": {},
     "output_type": "execute_result"
    }
   ],
   "source": []
  },
  {
   "cell_type": "code",
   "execution_count": null,
   "id": "51e361a1",
   "metadata": {},
   "outputs": [],
   "source": []
  },
  {
   "cell_type": "code",
   "execution_count": 5,
   "id": "6eb72660",
   "metadata": {},
   "outputs": [],
   "source": [
    "def collate_fn(batch):\n",
    "    be = [i[0] for i in batch]\n",
    "    bv = [i[1] for i in batch]\n",
    "    return torch.cat(be), torch.tensor(bv)"
   ]
  },
  {
   "cell_type": "code",
   "execution_count": 11,
   "id": "4731ca13",
   "metadata": {},
   "outputs": [],
   "source": [
    "BATCH_SIZE = 64\n",
    "\n",
    "dataloader = DataLoader(\n",
    "    list(zip(dts['en'], dts['vi'])),\n",
    "    batch_size=BATCH_SIZE,\n",
    "    collate_fn=collate_fn,\n",
    "    shuffle=True,\n",
    "    num_workers=8\n",
    ")"
   ]
  },
  {
   "cell_type": "code",
   "execution_count": 10,
   "id": "a3f80c34",
   "metadata": {},
   "outputs": [
    {
     "data": {
      "text/plain": [
       "49622"
      ]
     },
     "execution_count": 10,
     "metadata": {},
     "output_type": "execute_result"
    }
   ],
   "source": [
    "len(dataloader)"
   ]
  },
  {
   "cell_type": "code",
   "execution_count": 13,
   "id": "e9b921a6",
   "metadata": {},
   "outputs": [],
   "source": [
    "import clip\n",
    "clip_model, preprocess = clip.load(\"ViT-B/16\", device=\"cpu\")\n",
    "WRAPPED_MODEL = xmp.MpModelWrapper(clip_model)\n"
   ]
  },
  {
   "cell_type": "code",
   "execution_count": 14,
   "id": "036b9bd4",
   "metadata": {},
   "outputs": [
    {
     "name": "stderr",
     "output_type": "stream",
     "text": [
      "2021-12-01 03:13:37.992159: E tensorflow/core/framework/op_kernel.cc:1693] OpKernel ('op: \"TpuHandleToProtoKey\" device_type: \"CPU\"') for unknown op: TpuHandleToProtoKey\n",
      "2021-12-01 03:13:37.992233: E tensorflow/core/framework/op_kernel.cc:1693] OpKernel ('op: \"TPURoundRobin\" device_type: \"CPU\"') for unknown op: TPURoundRobin\n"
     ]
    }
   ],
   "source": [
    "device = xm.xla_device()\n",
    "model = WRAPPED_MODEL.to(device).eval()"
   ]
  },
  {
   "cell_type": "code",
   "execution_count": 18,
   "id": "8ffc4c88",
   "metadata": {},
   "outputs": [],
   "source": [
    "et, vt = next(iter(dataloader))"
   ]
  },
  {
   "cell_type": "code",
   "execution_count": 24,
   "id": "69da7876",
   "metadata": {},
   "outputs": [],
   "source": [
    "from tqdm import tqdm"
   ]
  },
  {
   "cell_type": "code",
   "execution_count": 25,
   "id": "4d42d24c",
   "metadata": {},
   "outputs": [
    {
     "name": "stderr",
     "output_type": "stream",
     "text": [
      "100%|████████████████████████████████████████████████████████████████████████████████████████████████████████████████| 49622/49622 [29:13<00:00, 28.29it/s]\n"
     ]
    }
   ],
   "source": [
    "clip_embedding = []\n",
    "tgt = []\n",
    "\n",
    "\n",
    "with torch.no_grad():\n",
    "    for et, vt in tqdm(dataloader):\n",
    "        outputs = model.encode_text(et.to(device, dtype=torch.long))\n",
    "        e_embed = outputs.detach().cpu()\n",
    "        clip_embedding.append(e_embed)\n",
    "        tgt.append(vt)\n"
   ]
  },
  {
   "cell_type": "code",
   "execution_count": 29,
   "id": "2a23d965",
   "metadata": {},
   "outputs": [
    {
     "name": "stderr",
     "output_type": "stream",
     "text": [
      "tcmalloc: large alloc 6504030208 bytes == 0x5636844d2000 @  0x7fa50354d680 0x7fa50356e824 0x7fa50356eb8a 0x7fa4a33f125e 0x7fa4a33f29d2 0x7fa4e4cab2c3 0x7fa4e44af43f 0x7fa4e4c5cefa 0x7fa4e454e6a1 0x7fa4e454ee95 0x7fa4e4a371a5 0x7fa4e49abaa1 0x7fa4e48323c5 0x7fa4e45508d7 0x7fa4e4af3ab8 0x7fa4e4af3b38 0x7fa4e49abaa1 0x7fa4e4831e25 0x7fa4e605a487 0x7fa4e605aa88 0x7fa4e49abaa1 0x7fa4e4831e25 0x7fa4f5da4118 0x563243ee3f76 0x563243ea185f 0x563243f28f56 0x563243eeea92 0x563243eef754 0x563243f7dedc 0x563243fb3083 0x563243ea4699\n",
      "tcmalloc: large alloc 3252019200 bytes == 0x563808852000 @  0x7fa50354d680 0x7fa50356e824 0x7fa50356eb8a 0x7fa4a33f125e 0x7fa4a33f29d2 0x7fa4e4cab2c3 0x7fa4e44af43f 0x7fa4e4c5cefa 0x7fa4e454e6a1 0x7fa4e454ee95 0x7fa4e4a371a5 0x7fa4e49abaa1 0x7fa4e48323c5 0x7fa4e45508d7 0x7fa4e4af3ab8 0x7fa4e4af3b38 0x7fa4e49abaa1 0x7fa4e4831e25 0x7fa4e605a487 0x7fa4e605aa88 0x7fa4e49abaa1 0x7fa4e4831e25 0x7fa4f5da4118 0x563243ee3f76 0x563243ea185f 0x563243f28f56 0x563243eeea92 0x563243eef754 0x563243f7dedc 0x563243fb3083 0x563243ea4699\n"
     ]
    }
   ],
   "source": [
    "clip_embedding = torch.cat(clip_embedding)\n",
    "tgt = torch.cat(tgt)"
   ]
  },
  {
   "cell_type": "code",
   "execution_count": 30,
   "id": "e5924783",
   "metadata": {},
   "outputs": [
    {
     "data": {
      "text/plain": [
       "torch.Size([3175796, 512])"
      ]
     },
     "execution_count": 30,
     "metadata": {},
     "output_type": "execute_result"
    }
   ],
   "source": [
    "clip_embedding.shape"
   ]
  },
  {
   "cell_type": "code",
   "execution_count": 31,
   "id": "8045a009",
   "metadata": {},
   "outputs": [
    {
     "data": {
      "text/plain": [
       "torch.Size([3175796, 128])"
      ]
     },
     "execution_count": 31,
     "metadata": {},
     "output_type": "execute_result"
    }
   ],
   "source": [
    "tgt.shape"
   ]
  },
  {
   "cell_type": "code",
   "execution_count": 33,
   "id": "885974e4",
   "metadata": {},
   "outputs": [],
   "source": [
    "!rm text_sat_b16.pt"
   ]
  },
  {
   "cell_type": "code",
   "execution_count": 36,
   "id": "dad633f1",
   "metadata": {},
   "outputs": [],
   "source": [
    "from sklearn.model_selection import train_test_split"
   ]
  },
  {
   "cell_type": "code",
   "execution_count": 37,
   "id": "4ee7561f",
   "metadata": {},
   "outputs": [
    {
     "name": "stderr",
     "output_type": "stream",
     "text": [
      "tcmalloc: large alloc 6178832384 bytes == 0x56398cb0e000 @  0x7fa50354d680 0x7fa50356e824 0x7fa50356eb8a 0x7fa4a33f125e 0x7fa4a33f29d2 0x7fa4e40c7356 0x7fa4e4529849 0x7fa4e4a341ea 0x7fa4e49ff969 0x7fa4e49b60c7 0x7fa4e485a399 0x7fa4e40ae255 0x7fa4e40b0932 0x7fa4e40b2c9b 0x7fa4e44fb6d6 0x7fa4e45139ac 0x7fa4e4a34daf 0x7fa4e486a6f5 0x7fa4e5ff784e 0x7fa4e5ff806f 0x7fa4e4c60325 0x7fa4f5ffbf82 0x563243ed38c9 0x563243f2559d 0x563243eeea92 0x563243eef943 0x563243e6411a 0x563243eeef9f 0x563243eef943 0x563243e62b84 0x563243f79056\n",
      "tcmalloc: large alloc 3089416192 bytes == 0x5638cbdec000 @  0x7fa50354d680 0x7fa50356e824 0x7fa50356eb8a 0x7fa4a33f125e 0x7fa4a33f29d2 0x7fa4e40c7356 0x7fa4e4529849 0x7fa4e4a341ea 0x7fa4e49ff969 0x7fa4e49b60c7 0x7fa4e485a399 0x7fa4e40ae255 0x7fa4e40b0932 0x7fa4e40b2c9b 0x7fa4e44fb6d6 0x7fa4e45139ac 0x7fa4e4a34daf 0x7fa4e486a6f5 0x7fa4e5ff784e 0x7fa4e5ff806f 0x7fa4e4c60325 0x7fa4f5ffbf82 0x563243ed38c9 0x563243f2559d 0x563243eeea92 0x563243eef943 0x563243e6411a 0x563243eeef9f 0x563243eef943 0x563243e62b84 0x563243f79056\n"
     ]
    }
   ],
   "source": [
    "X_train, X_test, y_train, y_test = train_test_split(clip_embedding, tgt, test_size=0.05, random_state=42)"
   ]
  },
  {
   "cell_type": "code",
   "execution_count": 38,
   "id": "09d96d5e",
   "metadata": {},
   "outputs": [
    {
     "data": {
      "text/plain": [
       "torch.Size([158790, 512])"
      ]
     },
     "execution_count": 38,
     "metadata": {},
     "output_type": "execute_result"
    }
   ],
   "source": [
    "X_test.shape"
   ]
  },
  {
   "cell_type": "code",
   "execution_count": 39,
   "id": "57422b74",
   "metadata": {},
   "outputs": [
    {
     "data": {
      "text/plain": [
       "torch.Size([3017006, 512])"
      ]
     },
     "execution_count": 39,
     "metadata": {},
     "output_type": "execute_result"
    }
   ],
   "source": [
    "X_train.shape"
   ]
  },
  {
   "cell_type": "code",
   "execution_count": 40,
   "id": "e6ec1db8",
   "metadata": {},
   "outputs": [
    {
     "data": {
      "text/plain": [
       "torch.Size([3017006, 128])"
      ]
     },
     "execution_count": 40,
     "metadata": {},
     "output_type": "execute_result"
    }
   ],
   "source": [
    "y_train.shape"
   ]
  },
  {
   "cell_type": "code",
   "execution_count": 41,
   "id": "e62d1dc1",
   "metadata": {},
   "outputs": [
    {
     "data": {
      "text/plain": [
       "torch.Size([158790, 128])"
      ]
     },
     "execution_count": 41,
     "metadata": {},
     "output_type": "execute_result"
    }
   ],
   "source": [
    "y_test.shape"
   ]
  },
  {
   "cell_type": "code",
   "execution_count": 42,
   "id": "a3ac4ad6",
   "metadata": {},
   "outputs": [
    {
     "name": "stderr",
     "output_type": "stream",
     "text": [
      "tcmalloc: large alloc 3089416192 bytes == 0x563b1a8dc000 @  0x7fa50354d680 0x7fa50356e824 0x563243e84e96 0x563243ecc456 0x7fa4f6026f3b 0x7fa4e540d385 0x7fa4e54098ea 0x7fa4e540dd99 0x7fa4f6027532 0x7fa4f5c6d8be 0x563243ee3f76 0x563243ea185f 0x563243eeffa1 0x563243e6477f 0x563243eeef9f 0x563243eef943 0x563243e62b84 0x563243eeea92 0x563243eef943 0x563243e6477f 0x563243eeea92 0x563243eef754 0x563243f7dedc 0x563243fb3083 0x563243ea4699 0x563243e62b84 0x563243ee8dc9 0x563243f29363 0x563243ee8dc9 0x563243f29363 0x563243ee8dc9\n",
      "tcmalloc: large alloc 6178832384 bytes == 0x563b1a8dc000 @  0x7fa50354d680 0x7fa50356e824 0x563243e84e96 0x563243ecc456 0x7fa4f6026f3b 0x7fa4e540d385 0x7fa4e54098ea 0x7fa4e540dd99 0x7fa4f6027532 0x7fa4f5c6d8be 0x563243ee3f76 0x563243ea185f 0x563243eeffa1 0x563243e6477f 0x563243eeef9f 0x563243eef943 0x563243e62b84 0x563243eeea92 0x563243eef943 0x563243e6477f 0x563243eeea92 0x563243eef754 0x563243f7dedc 0x563243fb3083 0x563243ea4699 0x563243e62b84 0x563243ee8dc9 0x563243f29363 0x563243ee8dc9 0x563243f29363 0x563243ee8dc9\n"
     ]
    }
   ],
   "source": [
    "torch.save({\"clip_embedding\": X_train, \"target\": y_train}, \"text_sat_b16_train.pt\")\n",
    "torch.save({\"clip_embedding\": X_test, \"target\": y_test}, \"text_sat_b16_test.pt\")"
   ]
  },
  {
   "cell_type": "code",
   "execution_count": 43,
   "id": "25f76646",
   "metadata": {},
   "outputs": [
    {
     "name": "stdout",
     "output_type": "stream",
     "text": [
      "total 14G\r\n",
      "-rw-rw-r-- 1 lethanh lethanh 466M Dec  1 04:55 text_sat_b16_test.pt\r\n",
      "-rw-rw-r-- 1 lethanh lethanh 8.7G Dec  1 04:55 text_sat_b16_train.pt\r\n",
      "-rw-rw-r-- 1 lethanh lethanh  17K Dec  1 04:54 inference_tpu.ipynb\r\n",
      "-rw-rw-r-- 1 lethanh lethanh  15K Dec  1 03:04 normalize.ipynb\r\n",
      "-rw-rw-r-- 1 lethanh lethanh 3.5G Dec  1 03:01 token.pt\r\n",
      "-rw-rw-r-- 1 lethanh lethanh 1.5G Oct  5 13:48 train.en-vi.json\r\n"
     ]
    }
   ],
   "source": [
    "!ls -llth"
   ]
  },
  {
   "cell_type": "code",
   "execution_count": null,
   "id": "b017225a",
   "metadata": {},
   "outputs": [],
   "source": [
    "test_preds = []\n",
    "\n",
    "for i, data in tqdm(enumerate(test_data_loader), total=len(test_data_loader)):\n",
    "    ids = data[\"input_ids\"]\n",
    "    mask = data[\"attention_mask\"]\n",
    "    type_ids = data[\"token_type_ids\"]\n",
    "    ids = ids.to(device, dtype=torch.long)\n",
    "    mask = mask.to(device, dtype=torch.long)\n",
    "    type_ids = type_ids.to(device, dtype=torch.long)\n",
    "    outputs = model(\n",
    "        input_ids = ids,\n",
    "        attention_mask = mask,\n",
    "        token_type_ids = type_ids\n",
    "    )\n",
    "    outputs_np = outputs.cpu().detach().numpy().tolist()\n",
    "    test_preds.extend(outputs_np)"
   ]
  }
 ],
 "metadata": {
  "kernelspec": {
   "display_name": "Python 3 (ipykernel)",
   "language": "python",
   "name": "python3"
  },
  "language_info": {
   "codemirror_mode": {
    "name": "ipython",
    "version": 3
   },
   "file_extension": ".py",
   "mimetype": "text/x-python",
   "name": "python",
   "nbconvert_exporter": "python",
   "pygments_lexer": "ipython3",
   "version": "3.8.5"
  }
 },
 "nbformat": 4,
 "nbformat_minor": 5
}
